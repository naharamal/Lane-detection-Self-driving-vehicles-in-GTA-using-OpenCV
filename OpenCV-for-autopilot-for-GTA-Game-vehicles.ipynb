{
 "cells": [
  {
   "cell_type": "markdown",
   "metadata": {},
   "source": [
    "## Autopilot for GTA Game Vehicles"
   ]
  },
  {
   "cell_type": "markdown",
   "metadata": {},
   "source": [
    "Importing all the libraries"
   ]
  },
  {
   "cell_type": "code",
   "execution_count": 1,
   "metadata": {},
   "outputs": [],
   "source": [
    "from sendkeys import PressKey,ReleaseKey\n",
    "import time\n",
    "import cv2\n",
    "import imutils\n",
    "from imutils.object_detection import non_max_suppression\n",
    "from PIL import ImageGrab\n",
    "import numpy as np\n",
    "import math"
   ]
  },
  {
   "cell_type": "markdown",
   "metadata": {},
   "source": [
    "A function for showing image"
   ]
  },
  {
   "cell_type": "code",
   "execution_count": 2,
   "metadata": {},
   "outputs": [],
   "source": [
    "def show_img(image):\n",
    "    while True:\n",
    "        cv2.imshow('Image window',image)\n",
    "        if cv2.waitKey(10) & 0XFF==ord('q'):\n",
    "            cv2.destroyAllWindows()\n",
    "            break"
   ]
  },
  {
   "cell_type": "markdown",
   "metadata": {},
   "source": [
    "edge detection,Region of interest, lane detection"
   ]
  },
  {
   "cell_type": "code",
   "execution_count": 3,
   "metadata": {},
   "outputs": [],
   "source": [
    "#edge detection\n",
    "def image_process(image):\n",
    "    image=cv2.Canny(image,150,250)\n",
    "    return image\n",
    "\n",
    "#Region of interest and lane detection\n",
    "def ROI(image):\n",
    "    roi=np.zeros_like(image)\n",
    "    roi=cv2.fillPoly(roi,[vertices],255)\n",
    "    image=cv2.bitwise_and(image,roi)\n",
    "    lines=cv2.HoughLinesP(image,1,np.pi/180,110,np.array([]),minLineLength=120,maxLineGap=20)\n",
    "    image=cv2.cvtColor(image,cv2.COLOR_GRAY2RGB)\n",
    "    try:\n",
    "        if len(lines)>2:    \n",
    "            lines=lines_sel(lines)\n",
    "        for [[x,y,p,q]] in lines:\n",
    "            cv2.line(image,(x,y),(p,q),(0,0,255),3)\n",
    "    except:\n",
    "        pass\n",
    "    return image,lines"
   ]
  },
  {
   "cell_type": "markdown",
   "metadata": {},
   "source": [
    "Driving intructuion"
   ]
  },
  {
   "cell_type": "code",
   "execution_count": 34,
   "metadata": {},
   "outputs": [],
   "source": [
    "def forward():\n",
    "    PressKey(0X39)\n",
    "    time.sleep(1)\n",
    "    ReleaseKey(0XCB)\n",
    "    ReleaseKey(0XCD)\n",
    "    #ReleaseKey(0X39)\n",
    "\n",
    "def right():\n",
    "    PressKey(0XCD)\n",
    "    PressKey(0X39)\n",
    "    time.sleep(.15)\n",
    "    ReleaseKey(0XCB)\n",
    "    ReleaseKey(0XCD)\n",
    "    #ReleaseKey(0X39)\n",
    "def left():\n",
    "    PressKey(0XCB)\n",
    "    PressKey(0X39)\n",
    "    time.sleep(.15)\n",
    "    ReleaseKey(0XCB)\n",
    "    ReleaseKey(0XCD)\n",
    "    #ReleaseKey(0X39)"
   ]
  },
  {
   "cell_type": "markdown",
   "metadata": {},
   "source": [
    "Function for selecting the lane lines from the hough transform"
   ]
  },
  {
   "cell_type": "code",
   "execution_count": 35,
   "metadata": {},
   "outputs": [],
   "source": [
    "def lines_sel(lines):\n",
    "    #make line equation\n",
    "    dist=[]\n",
    "    slopes=[]\n",
    "    bias=[]\n",
    "    lines_to_draw=[]\n",
    "    checked=[]\n",
    "    for[[x,y,p,q]] in lines:\n",
    "        m=(q-y)/(p-x)\n",
    "        b=y-m*x\n",
    "        slopes.append(m)\n",
    "        bias.append(b)\n",
    "        dist.append(np.sqrt(np.power(p-x,2)+np.power(q-y,2)))\n",
    "\n",
    "    while(max(dist)!=0):\n",
    "        index=dist.index(max(dist))\n",
    "        if 0.2<=abs(slopes[index])<=2.74:\n",
    "            lines_to_draw.append(lines[index])\n",
    "        dist[index]=0\n",
    "        if len(lines_to_draw)==2:\n",
    "            break\n",
    "    return(lines_to_draw)       \n",
    "    "
   ]
  },
  {
   "cell_type": "markdown",
   "metadata": {},
   "source": [
    "Function to drive"
   ]
  },
  {
   "cell_type": "code",
   "execution_count": 36,
   "metadata": {},
   "outputs": [],
   "source": [
    "def drive(lines_to_draw):\n",
    "    try:\n",
    "        slopes_to_draw=[]\n",
    "        for [[x,y,p,q]] in lines_to_draw:\n",
    "            slopes_to_draw.append((q-y)/(p-x))\n",
    "\n",
    "        sign=slopes_to_draw[0]/abs(slopes_to_draw[0])\n",
    "        if (slopes_to_draw[1]/abs(slopes_to_draw[1]))!=sign:\n",
    "            forward()\n",
    "        elif(sign==-1):\n",
    "            right()\n",
    "        elif(sign==1):\n",
    "            left()    \n",
    "    except:\n",
    "        pass"
   ]
  },
  {
   "cell_type": "markdown",
   "metadata": {},
   "source": [
    "Notify the Autopilot On or off"
   ]
  },
  {
   "cell_type": "code",
   "execution_count": 37,
   "metadata": {},
   "outputs": [],
   "source": [
    "def nothing(k):\n",
    "    print('Autopilot toggled')"
   ]
  },
  {
   "cell_type": "markdown",
   "metadata": {},
   "source": [
    "Grabbing the GTA screen and executing the autopilot"
   ]
  },
  {
   "cell_type": "code",
   "execution_count": 38,
   "metadata": {},
   "outputs": [
    {
     "name": "stdout",
     "output_type": "stream",
     "text": [
      "Autopilot toggled\n",
      "Autopilot toggled\n",
      "Autopilot toggled\n",
      "Autopilot toggled\n"
     ]
    }
   ],
   "source": [
    "time.sleep(5)\n",
    "vertices=np.array([[-200,640],[400,450],[1000,640],[600,300],[200,300]],'int32')\n",
    "cv2.namedWindow('win')\n",
    "cv2.createTrackbar('Autopilot','win',0,1,nothing)\n",
    "#image grab and show\n",
    "while(True):\n",
    "    screen=np.array(ImageGrab.grab(bbox=(0,40,800,640)))\n",
    "    #screen=cv2.resize(screen,(400,300))\n",
    "    screen=image_process(screen)\n",
    "    screen,lines=ROI(screen)\n",
    "    code=cv2.getTrackbarPos('Autopilot','win')\n",
    "    if code==1:\n",
    "        drive(lines) \n",
    "    cv2.imshow('win',screen)\n",
    "    if cv2.waitKey(25) & 0XFF==ord('q'):\n",
    "        cv2.destroyAllWindows()\n",
    "        break\n"
   ]
  },
  {
   "cell_type": "code",
   "execution_count": null,
   "metadata": {},
   "outputs": [],
   "source": []
  }
 ],
 "metadata": {
  "kernelspec": {
   "display_name": "Python 3",
   "language": "python",
   "name": "python3"
  },
  "language_info": {
   "codemirror_mode": {
    "name": "ipython",
    "version": 3
   },
   "file_extension": ".py",
   "mimetype": "text/x-python",
   "name": "python",
   "nbconvert_exporter": "python",
   "pygments_lexer": "ipython3",
   "version": "3.6.8"
  }
 },
 "nbformat": 4,
 "nbformat_minor": 2
}
