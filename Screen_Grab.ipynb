{
 "cells": [
  {
   "cell_type": "markdown",
   "metadata": {},
   "source": [
    "Hog Descriptor for people detector"
   ]
  },
  {
   "cell_type": "code",
   "execution_count": 30,
   "metadata": {},
   "outputs": [],
   "source": [
    "hog=cv2.HOGDescriptor()\n",
    "hog.setSVMDetector(cv2.HOGDescriptor_getDefaultPeopleDetector())"
   ]
  },
  {
   "cell_type": "code",
   "execution_count": 41,
   "metadata": {},
   "outputs": [],
   "source": [
    "#A function to show image\n",
    "def show_img(image):\n",
    "    while True:\n",
    "        cv2.imshow('Image window',image)\n",
    "        if cv2.waitKey(10) & 0XFF==ord('q'):\n",
    "            cv2.destroyAllWindows()\n",
    "            break\n",
    "        "
   ]
  },
  {
   "cell_type": "code",
   "execution_count": 46,
   "metadata": {},
   "outputs": [],
   "source": [
    "import imutils\n",
    "from imutils.object_detection import non_max_suppression\n",
    "#Pedestrian detection using HOG \n",
    "def pedestrian_detection(image):\n",
    "    gray_image=cv2.cvtColor(image,cv2.COLOR_BGR2GRAY)\n",
    "    rects,weights=hog.detectMultiScale(gray_image,winStride=(4,4),padding=(4,4),scale=2)\n",
    "    rects=np.array([[x,y,x+w,y+h] for x,y,w,h in rects])    \n",
    "    final_rects=non_max_suppression(rects,overlapThresh=0.5)\n",
    "    for x,y,p,q in final_rects:    \n",
    "        image=cv2.rectangle(image,(x,y),(p,q),(0,0,255),2)\n",
    "    return image\n",
    "    "
   ]
  },
  {
   "cell_type": "code",
   "execution_count": 65,
   "metadata": {},
   "outputs": [],
   "source": [
    "#Haar cascacade method of pedestrian detection\n",
    "people_detecter=cv2.CascadeClassifier('haarcascade_fullbody.xml')\n",
    "def cascade_classifier(image):\n",
    "    gray_image=cv2.cvtColor(image,cv2.COLOR_BGR2GRAY)\n",
    "    rects=people_detecter.detectMultiScale(gray_image,1.05,3)\n",
    "    rects=np.array([[x,y,x+w,y+h] for x,y,w,h in rects])    \n",
    "    final_rects=non_max_suppression(rects,overlapThresh=0.5)\n",
    "    for (x,y,w,h) in rects:\n",
    "        cv2.rectangle(image,(x,y),(x+w,y+h),(0,0,255),2)\n",
    "    return image"
   ]
  },
  {
   "cell_type": "code",
   "execution_count": 1,
   "metadata": {},
   "outputs": [],
   "source": [
    "#edge detection\n",
    "def image_process(image):\n",
    "    image=cv2.Canny(image,100,200)\n",
    "    return image\n",
    "\n",
    "#Region of intrest\n",
    "def ROI(image):\n",
    "    vertices=np.array([[0,640],[400,450],[800,640],[533,200],[266,200]],'int32')\n",
    "    roi=np.zeros_like(image)\n",
    "    roi=cv2.fillPoly(roi,[vertices],255)\n",
    "    image=cv2.bitwise_and(image,roi)\n",
    "    lines=cv2.HoughLinesP(image,1,np.pi/180,100,minLineLength=80,maxLineGap=10)\n",
    "    for [[x,y,p,q]] in lines:\n",
    "        cv2.line(image,(x,y),(p,q),255,2)\n",
    "    return image\n",
    "\n"
   ]
  },
  {
   "cell_type": "code",
   "execution_count": 2,
   "metadata": {
    "scrolled": true
   },
   "outputs": [],
   "source": [
    "import cv2\n",
    "from PIL import ImageGrab\n",
    "import numpy as np\n",
    "import time\n",
    "k=0\n",
    "#image grab and show\n",
    "while(True):\n",
    "    screen=np.array(ImageGrab.grab(bbox=(0,40,800,640)))\n",
    "    #screen=cv2.resize(screen,(400,300))\n",
    "    screen=image_process(screen)\n",
    "    screen=ROI(screen)\n",
    "    cv2.imshow('win',screen)\n",
    "    if cv2.waitKey(10) & 0XFF==ord('q'):\n",
    "        cv2.destroyAllWindows()\n",
    "        break\n",
    "\n"
   ]
  },
  {
   "cell_type": "code",
   "execution_count": null,
   "metadata": {},
   "outputs": [],
   "source": []
  },
  {
   "cell_type": "code",
   "execution_count": null,
   "metadata": {},
   "outputs": [],
   "source": []
  },
  {
   "cell_type": "code",
   "execution_count": 101,
   "metadata": {},
   "outputs": [],
   "source": []
  }
 ],
 "metadata": {
  "kernelspec": {
   "display_name": "Python 3",
   "language": "python",
   "name": "python3"
  },
  "language_info": {
   "codemirror_mode": {
    "name": "ipython",
    "version": 3
   },
   "file_extension": ".py",
   "mimetype": "text/x-python",
   "name": "python",
   "nbconvert_exporter": "python",
   "pygments_lexer": "ipython3",
   "version": "3.6.8"
  }
 },
 "nbformat": 4,
 "nbformat_minor": 2
}
