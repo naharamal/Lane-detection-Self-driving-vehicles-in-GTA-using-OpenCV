{
 "cells": [
  {
   "cell_type": "code",
   "execution_count": 103,
   "metadata": {},
   "outputs": [],
   "source": [
    "from sendkeys import PressKey,ReleaseKey\n",
    "import time\n",
    "import cv2\n",
    "import imutils\n",
    "from imutils.object_detection import non_max_suppression\n",
    "from PIL import ImageGrab\n",
    "import numpy as np\n",
    "import math"
   ]
  },
  {
   "cell_type": "code",
   "execution_count": 104,
   "metadata": {},
   "outputs": [],
   "source": [
    "#A function to show image\n",
    "def show_img(image):\n",
    "    while True:\n",
    "        cv2.imshow('Image window',image)\n",
    "        if cv2.waitKey(10) & 0XFF==ord('q'):\n",
    "            cv2.destroyAllWindows()\n",
    "            break\n",
    "        "
   ]
  },
  {
   "cell_type": "code",
   "execution_count": 105,
   "metadata": {},
   "outputs": [],
   "source": [
    "#Pedestrian detection using HOG \n",
    "\n",
    "hog=cv2.HOGDescriptor()\n",
    "hog.setSVMDetector(cv2.HOGDescriptor_getDefaultPeopleDetector())\n",
    "\n",
    "def pedestrian_detection(image):\n",
    "    gray_image=cv2.cvtColor(image,cv2.COLOR_BGR2GRAY)\n",
    "    rects,weights=hog.detectMultiScale(gray_image,winStride=(4,4),padding=(4,4),scale=2)\n",
    "    rects=np.array([[x,y,x+w,y+h] for x,y,w,h in rects])    \n",
    "    final_rects=non_max_suppression(rects,overlapThresh=0.5)\n",
    "    for x,y,p,q in final_rects:    \n",
    "        image=cv2.rectangle(image,(x,y),(p,q),(0,0,255),2)\n",
    "    return image\n",
    "    "
   ]
  },
  {
   "cell_type": "code",
   "execution_count": 106,
   "metadata": {},
   "outputs": [],
   "source": [
    "#Haar cascacade method of pedestrian detection\n",
    "\n",
    "people_detecter=cv2.CascadeClassifier('haarcascade_fullbody.xml')\n",
    "def cascade_classifier(image):\n",
    "    gray_image=cv2.cvtColor(image,cv2.COLOR_BGR2GRAY)\n",
    "    rects=people_detecter.detectMultiScale(gray_image,1.05,3)\n",
    "    rects=np.array([[x,y,x+w,y+h] for x,y,w,h in rects])    \n",
    "    final_rects=non_max_suppression(rects,overlapThresh=0.5)\n",
    "    for (x,y,w,h) in rects:\n",
    "        cv2.rectangle(image,(x,y),(x+w,y+h),(0,0,255),2)\n",
    "    return image"
   ]
  },
  {
   "cell_type": "code",
   "execution_count": 107,
   "metadata": {},
   "outputs": [],
   "source": [
    "#edge detection\n",
    "def image_process(image):\n",
    "    image=cv2.Canny(image,150,250)\n",
    "    return image\n",
    "\n",
    "#Region of interest\n",
    "def ROI(image):\n",
    "    roi=np.zeros_like(image)\n",
    "    roi=cv2.fillPoly(roi,[vertices],255)\n",
    "    image=cv2.bitwise_and(image,roi)\n",
    "    lines=cv2.HoughLinesP(image,1,np.pi/180,110,np.array([]),minLineLength=120,maxLineGap=20)\n",
    "    image=cv2.cvtColor(image,cv2.COLOR_GRAY2RGB)\n",
    "    try:\n",
    "        if len(lines)>2:    \n",
    "            lines=lines_sel(lines)\n",
    "        for [[x,y,p,q]] in lines:\n",
    "            cv2.line(image,(x,y),(p,q),(0,0,255),3)\n",
    "    except:\n",
    "        pass\n",
    "    return image,lines\n",
    "\n"
   ]
  },
  {
   "cell_type": "code",
   "execution_count": 108,
   "metadata": {},
   "outputs": [],
   "source": [
    "def forward():\n",
    "    PressKey(0X39)\n",
    "    time.sleep(1)\n",
    "    ReleaseKey(0XCB)\n",
    "    ReleaseKey(0XCD)\n",
    "    ReleaseKey(0X39)\n",
    "\n",
    "def right():\n",
    "    PressKey(0XCD)\n",
    "    PressKey(0X39)\n",
    "    time.sleep(.5)\n",
    "    ReleaseKey(0XCB)\n",
    "    ReleaseKey(0XCD)\n",
    "    ReleaseKey(0X39)\n",
    "def left():\n",
    "    PressKey(0XCB)\n",
    "    PressKey(0X39)\n",
    "    time.sleep(.5)\n",
    "    ReleaseKey(0XCB)\n",
    "    ReleaseKey(0XCD)\n",
    "    ReleaseKey(0X39)"
   ]
  },
  {
   "cell_type": "code",
   "execution_count": 109,
   "metadata": {},
   "outputs": [],
   "source": [
    "def lines_sel(lines):\n",
    "    #make line equation\n",
    "    dist=[]\n",
    "    slopes=[]\n",
    "    bias=[]\n",
    "    lines_to_draw=[]\n",
    "    checked=[]\n",
    "    for[[x,y,p,q]] in lines:\n",
    "        m=(q-y)/(p-x)\n",
    "        b=y-m*x\n",
    "        slopes.append(m)\n",
    "        bias.append(b)\n",
    "        dist.append(np.sqrt(np.power(p-x,2)+np.power(q-y,2)))\n",
    "\n",
    "    while(max(dist)!=0):\n",
    "        index=dist.index(max(dist))\n",
    "        if 0.2<=abs(slopes[index])<=2.74:\n",
    "            lines_to_draw.append(lines[index])\n",
    "        dist[index]=0\n",
    "        if len(lines_to_draw)==2:\n",
    "            break\n",
    "    return(lines_to_draw)       \n",
    "    "
   ]
  },
  {
   "cell_type": "code",
   "execution_count": 110,
   "metadata": {},
   "outputs": [],
   "source": [
    "def drive(lines_to_draw):\n",
    "    try:\n",
    "        slopes_to_draw=[]\n",
    "        for [[x,y,p,q]] in lines_to_draw:\n",
    "            slopes_to_draw.append((q-y)/(p-x))\n",
    "\n",
    "        sign=slopes_to_draw[0]/abs(slopes_to_draw[0])\n",
    "        if (slopes_to_draw[1]/abs(slopes_to_draw[1]))!=sign:\n",
    "            forward()\n",
    "        elif(sign==-1):\n",
    "            right()\n",
    "        elif(sign==1):\n",
    "            left()    \n",
    "    except:\n",
    "        pass"
   ]
  },
  {
   "cell_type": "code",
   "execution_count": 114,
   "metadata": {
    "scrolled": true
   },
   "outputs": [
    {
     "name": "stderr",
     "output_type": "stream",
     "text": [
      "C:\\Users\\Nahar\\Miniconda3\\envs\\tensorflow\\lib\\site-packages\\ipykernel_launcher.py:9: RuntimeWarning: divide by zero encountered in int_scalars\n",
      "  if __name__ == '__main__':\n",
      "C:\\Users\\Nahar\\Miniconda3\\envs\\tensorflow\\lib\\site-packages\\ipykernel_launcher.py:7: RuntimeWarning: invalid value encountered in double_scalars\n",
      "  import sys\n",
      "C:\\Users\\Nahar\\Miniconda3\\envs\\tensorflow\\lib\\site-packages\\ipykernel_launcher.py:8: RuntimeWarning: invalid value encountered in double_scalars\n",
      "  \n"
     ]
    }
   ],
   "source": [
    "time.sleep(5)\n",
    "vertices=np.array([[-200,640],[400,450],[1000,640],[600,300],[200,300]],'int32')\n",
    "#image grab and show\n",
    "while(True):\n",
    "    screen=np.array(ImageGrab.grab(bbox=(0,40,800,640)))\n",
    "    #screen=cv2.resize(screen,(400,300))\n",
    "    screen=image_process(screen)\n",
    "    screen,lines=ROI(screen)\n",
    "    drive(lines) \n",
    "    cv2.imshow('win',screen)\n",
    "    if cv2.waitKey(25) & 0XFF==ord('q'):\n",
    "        cv2.destroyAllWindows()\n",
    "        break\n",
    "\n"
   ]
  },
  {
   "cell_type": "code",
   "execution_count": 61,
   "metadata": {},
   "outputs": [],
   "source": []
  },
  {
   "cell_type": "code",
   "execution_count": null,
   "metadata": {},
   "outputs": [],
   "source": [
    "                                                                                                                                                                                                                                                                                                                                                                                                                                                                                                                                                                                                                                                                                                                                                                                                                                                                                                                                                                                                                                                                                                                                                                                                                                                                                                                                                                                                                                                                                                                                                                                                                                                                                                                                                                                                                                                                                                                                                                                                                                                                                                                                                                                                                                                                                                                                                                                                                                                                                                                                                                                                                                                                                                                                                                                                                                                                                                                                                                                                                                                                                                                                                                                                                                                                                                                                                                                                                                                                                                                                                                                                                                                                                                                                                                                                                                                                                                                                                                                                                                                                                                                                                                                                                                                                                                                                                                                                                                                                                                                                                                                                                                                                                                                                                                                                                                                                                                                                                                                                                                                                                                                                                                                                                                                                                                                                                                                                                                                                                                                                                                                                                                                                                                                                                                                                                                                                                                                                                                                                                                                                                                                                                                                                                                                                                                                                                                                                                                                                                                                                                                                                                                                                                                                                                                                                                                                                                                                                                                                                                                                                                                                                                                                                                                                                                                                                                                                                                                                                                                                                                                                                                                                                                                                                                                                                                                                                                                                                                                                                                                                                                                                                                                                                                                                                                                                                                                                                                                                                                                                                                                                                                                                                                                                                                                                                                                                                                                                                                                                                                                                                                                                                                                                                                                                                                                                                                                                                                                                                                                                                                                                                                                                                                                                                                                                                                                                                                                                                                                                                                                                                                                                                                                                                                                                                                                                                                                                                                                                                                                                                                                                                                                                                                                                                                                                                                                                                                                                                                                                                                                                                                                                                                                                                                                                                                                                                                                                                                                                                                                                                                                                                                                                                                                                                                                                                                                                                                                                                                                                                                                                                                                                                                                                                                                                                                                                                                                                                                                                                                                                                                                                                                                                                                                                                                                                                                                                                                                                                                                                                                                                                                                                                                                                                                                                                                                                                                                                                                                                                                                                                                                                                                                                                                                                                                                                                                                                                                                                                                                                                                                                                                                                                                                                                                                                                                                                                                                                                                                                                                                                                                                                                                                                                                                                                                                                                                                                                                                                                                                                                                                                                                                                                                                                                                                                                                                                                                                                                                                                                                                                                                                                                                                                                                                                                                                                                                                                                                                                                                                                                                                                                                                                                                                                                                                                                                                                                                                                                                                                                                                                                                                                                                                                                                                                                                                                                                                                                                                                                                                                                                                                                                                                                                                                                                                                                                                                                                                                                                                                                                                                                                                                                                                                                                                                                                                                                                                                                                                                                                                                                                                                                                                                                                                                                                                                                                                                                                                                                                                                                                                                                                                                                                                                                                                                                                                                                                                                                                                                                                                                                                                                                                                                                                                                                                                                                                                                                                                                                                                                                                                                                                                                                                                                                                                                                                                                                                                                                                                                                                                                                                                                                                                                                                                                                                                                                                                                                                                                                                                                                                                                                                                                                                                                                                                                                                                                                                                                                                                                                                                                                                                                                                                                                                                                                                                                                                                                                                                                                                                                                                                                                                                                                                                                                                                                                                                                                                                                                                                                                                                                                                                                                                                                                                                                                                                                                                                                                                                                                                                                                                                                                                                                                                                                                                                                                                                                                                                                                                                                                                                                                                                                                                                                                                                                                                                                                                                                                                                                                                                                                                                                                                                                                                                                                                                                                                                                                                                                                                                                                                                                                                                                                                                                                                                                                                                                                                                                                                                                                                                                                                                                                                                                                                                                                                                                                                                                                                                                                                                                                                                                                                                                                                                                                                                                                                                                                                                                                                                                                                                                                                                                                                                                                                                                                                                                                                                                                                                                                                                                                                                                                                                                                                                                                                                                                                                                                                                                                                                                                                                                                                                                                                                                                                                                                                                                                                                                                                                                                                                                                                                                                                                                                                                                                                                                                                                                                                                                                                                                                                                                                                                                                                                                                                                                                                                                                                                                                                                                                                                                                                                                                                                                                                                                                                                                                                                                                                                                                                                                                                                                                                                                                                                                                                                                                                                                                                                                                                                                                                                                                                                                                                                                                                                                                                                                                                                                                                                                                                                                                                                                                                                                                                                                                                                                                    "
   ]
  }
 ],
 "metadata": {
  "kernelspec": {
   "display_name": "Python 3",
   "language": "python",
   "name": "python3"
  },
  "language_info": {
   "codemirror_mode": {
    "name": "ipython",
    "version": 3
   },
   "file_extension": ".py",
   "mimetype": "text/x-python",
   "name": "python",
   "nbconvert_exporter": "python",
   "pygments_lexer": "ipython3",
   "version": "3.6.8"
  }
 },
 "nbformat": 4,
 "nbformat_minor": 2
}
