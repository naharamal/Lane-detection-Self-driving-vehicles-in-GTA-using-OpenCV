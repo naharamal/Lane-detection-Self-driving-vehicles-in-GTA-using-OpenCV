{
 "cells": [
  {
   "cell_type": "code",
   "execution_count": 1,
   "metadata": {},
   "outputs": [],
   "source": [
    "import win32api as wapi\n",
    "import os\n",
    "import cv2\n",
    "import numpy as np\n",
    "import time\n",
    "from PIL import ImageGrab"
   ]
  },
  {
   "cell_type": "code",
   "execution_count": 2,
   "metadata": {},
   "outputs": [],
   "source": [
    "def show_img(image):\n",
    "    while True:\n",
    "        cv2.imshow('Image window',image)\n",
    "        if cv2.waitKey(10) & 0XFF==ord('q'):\n",
    "            cv2.destroyAllWindows()\n",
    "            break"
   ]
  },
  {
   "cell_type": "code",
   "execution_count": 3,
   "metadata": {},
   "outputs": [],
   "source": [
    "keylist=\"ABCDEFGHIJKLMNOPQRSTUVWXYZ\"\n",
    "\n",
    "def get_keys():\n",
    "    output=[]\n",
    "    for key in keylist:\n",
    "        if wapi.GetAsyncKeyState(ord(key)):\n",
    "            output.append(key)\n",
    "            break\n",
    "    return output"
   ]
  },
  {
   "cell_type": "code",
   "execution_count": 4,
   "metadata": {},
   "outputs": [],
   "source": [
    "def onehotkey(key):\n",
    "    if 'W' in key:\n",
    "        return([1,0,0])\n",
    "    if 'A' in key:\n",
    "        return([0,1,0])\n",
    "    if 'D' in key:\n",
    "        return([0,0,1])\n",
    "    else:\n",
    "        return([])"
   ]
  },
  {
   "cell_type": "code",
   "execution_count": 33,
   "metadata": {},
   "outputs": [],
   "source": [
    "def message_fun(num):\n",
    "    last=time.time()\n",
    "    message=np.ones((400,400))\n",
    "    message=cv2.putText(message,str(num),(50,125),cv2.FONT_HERSHEY_DUPLEX,2,(0,0,255),2)\n",
    "    while True:\n",
    "        cv2.imshow('Message',message)\n",
    "        if cv2.waitKey(10) & ((time.time()-last)>3.0):\n",
    "            cv2.destroyAllWindows()\n",
    "            break\n",
    "    cv2.namedWindow('Data Generation Progressing')\n"
   ]
  },
  {
   "cell_type": "code",
   "execution_count": 34,
   "metadata": {},
   "outputs": [
    {
     "name": "stdout",
     "output_type": "stream",
     "text": [
      "file found\n"
     ]
    }
   ],
   "source": [
    "file_name=\"training_data.npy\"\n",
    "\n",
    "if file_name in os.listdir('pics'):\n",
    "    print(\"file found\")\n",
    "    training_data=np.load('pics/training_data.npy',allow_pickle=True)\n",
    "\n",
    "else:\n",
    "    print(\"file not found\")\n",
    "    training_data=[]\n",
    "\n"
   ]
  },
  {
   "cell_type": "code",
   "execution_count": 35,
   "metadata": {},
   "outputs": [],
   "source": [
    "training_data=training_data.tolist()"
   ]
  },
  {
   "cell_type": "code",
   "execution_count": 42,
   "metadata": {},
   "outputs": [
    {
     "name": "stdout",
     "output_type": "stream",
     "text": [
      "training_data_build :500\n",
      "training_data_build :1000\n",
      "training_data_build :1500\n",
      "training_data_build :2000\n",
      "training_data_build :2500\n",
      "training_data_build :3000\n"
     ]
    }
   ],
   "source": [
    "num=0\n",
    "time.sleep(5)\n",
    "cv2.namedWindow('Data Generation Progressing')\n",
    "#image grab and show\n",
    "while(True):\n",
    "    num+=1\n",
    "    screen=np.array(ImageGrab.grab(bbox=(0,40,800,600)))\n",
    "    key=onehotkey(get_keys())\n",
    "    if num%500==0:\n",
    "        message_fun(num)\n",
    "        print('training_data_build :'+str(num))\n",
    "    screen=cv2.resize(screen,(80,56)) \n",
    "    screen=cv2.cvtColor(screen,cv2.COLOR_BGR2GRAY)\n",
    "    if len(key)>0:\n",
    "        list1=[screen,key]\n",
    "        training_data.append(list1)\n",
    "        np.save('pics/training_data.npy',training_data)\n",
    "    if cv2.waitKey(25) & 0XFF==ord('q'):\n",
    "        cv2.destroyAllWindows()\n",
    "        break\n"
   ]
  },
  {
   "cell_type": "code",
   "execution_count": 44,
   "metadata": {},
   "outputs": [
    {
     "name": "stdout",
     "output_type": "stream",
     "text": [
      "file found\n"
     ]
    }
   ],
   "source": [
    "length_of_version=len(training_data)\n",
    "\n",
    "file_name=\"versions.npy\"\n",
    "if file_name in os.listdir('pics'):\n",
    "    print(\"file found\")\n",
    "    versions=np.load('pics/versions.npy',allow_pickle=True)\n",
    "    versions=versions.tolist()\n",
    "\n",
    "else:\n",
    "    print(\"file not found\")\n",
    "    versions=[]\n",
    "    \n",
    "versions.append(length_of_version)\n",
    "np.save('pics/versions.npy',versions)"
   ]
  },
  {
   "cell_type": "code",
   "execution_count": 45,
   "metadata": {},
   "outputs": [
    {
     "name": "stdout",
     "output_type": "stream",
     "text": [
      "8218\n"
     ]
    }
   ],
   "source": [
    "frame=np.load('pics/training_data.npy',allow_pickle=True)\n",
    "print(len(frame))\n"
   ]
  },
  {
   "cell_type": "code",
   "execution_count": 46,
   "metadata": {},
   "outputs": [
    {
     "name": "stdout",
     "output_type": "stream",
     "text": [
      "[1, 0, 0]\n"
     ]
    }
   ],
   "source": [
    "show_img(cv2.resize(frame[-1][0],(500,500)))\n",
    "print(frame[250][1])"
   ]
  },
  {
   "cell_type": "code",
   "execution_count": 47,
   "metadata": {},
   "outputs": [],
   "source": [
    "from matplotlib import pyplot as plt\n",
    "from tqdm import tqdm\n",
    "frame=np.load('pics/training_data.npy',allow_pickle=True)"
   ]
  },
  {
   "cell_type": "code",
   "execution_count": 48,
   "metadata": {},
   "outputs": [
    {
     "name": "stderr",
     "output_type": "stream",
     "text": [
      "100%|██████████████████████████████████████████████████████████████████████████| 8218/8218 [00:00<00:00, 746643.35it/s]\n"
     ]
    }
   ],
   "source": [
    "w=0\n",
    "a=0\n",
    "d=0\n",
    "for i in tqdm(range(len(frame))):\n",
    "    if frame[i][1][0]==1:\n",
    "        w+=1\n",
    "    if frame[i][1][1]==1:\n",
    "        a+=1\n",
    "    if frame[i][1][2]==1:\n",
    "        d+=1\n",
    "        "
   ]
  },
  {
   "cell_type": "code",
   "execution_count": 49,
   "metadata": {},
   "outputs": [
    {
     "data": {
      "text/plain": [
       "<BarContainer object of 3 artists>"
      ]
     },
     "execution_count": 49,
     "metadata": {},
     "output_type": "execute_result"
    },
    {
     "data": {
      "image/png": "[encoded data removed]",
      "text/plain": [
       "<Figure size 432x288 with 1 Axes>"
      ]
     },
     "metadata": {
      "needs_background": "light"
     },
     "output_type": "display_data"
    }
   ],
   "source": [
    "plt.bar([1,2,3],[w,a,d],0.3)"
   ]
  },
  {
   "cell_type": "code",
   "execution_count": 50,
   "metadata": {},
   "outputs": [
    {
     "name": "stdout",
     "output_type": "stream",
     "text": [
      "5748 1226 1244\n"
     ]
    }
   ],
   "source": [
    "print(w,a,d)"
   ]
  },
  {
   "cell_type": "code",
   "execution_count": 13,
   "metadata": {},
   "outputs": [],
   "source": [
    "a=np.array([1,2,3])"
   ]
  },
  {
   "cell_type": "code",
   "execution_count": 16,
   "metadata": {},
   "outputs": [],
   "source": [
    "a=a.tolist()"
   ]
  },
  {
   "cell_type": "code",
   "execution_count": 17,
   "metadata": {},
   "outputs": [],
   "source": [
    "a.append(2)"
   ]
  },
  {
   "cell_type": "code",
   "execution_count": 18,
   "metadata": {},
   "outputs": [
    {
     "name": "stdout",
     "output_type": "stream",
     "text": [
      "[1, 2, 3, 2]\n"
     ]
    }
   ],
   "source": [
    "print(a)"
   ]
  }
 ],
 "metadata": {
  "kernelspec": {
   "display_name": "Python 3",
   "language": "python",
   "name": "python3"
  },
  "language_info": {
   "codemirror_mode": {
    "name": "ipython",
    "version": 3
   },
   "file_extension": ".py",
   "mimetype": "text/x-python",
   "name": "python",
   "nbconvert_exporter": "python",
   "pygments_lexer": "ipython3",
   "version": "3.6.8"
  }
 },
 "nbformat": 4,
 "nbformat_minor": 2
}
